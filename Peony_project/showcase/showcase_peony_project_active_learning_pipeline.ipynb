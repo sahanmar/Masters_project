{
 "cells": [
  {
   "cell_type": "markdown",
   "metadata": {},
   "source": [
    "# Active Learning Pipeline Showcase Peony Project"
   ]
  },
  {
   "cell_type": "markdown",
   "metadata": {},
   "source": [
    "### Import Peony Packages"
   ]
  },
  {
   "cell_type": "code",
   "execution_count": 1,
   "metadata": {},
   "outputs": [],
   "source": [
    "from PeonyPackage.PeonyDb import MongoDb\n",
    "from Peony_visualization.src.peony_visualization import calculate_binary_metrics\n",
    "from Peony_box.src.peony_box_model import PeonyBoxModel\n",
    "from Peony_box.src.transformators.HuffPost_transformator import HuffPostTransform as transformator\n",
    "from Peony_box.src.transformators.HuffPost_transformator import HuffPostTransformWordEmbeddings as word_embed_transformator\n",
    "from Peony_database.src.datasets.HuffPost_news_dataset import (\n",
    "    COLLECTION_NAME as HuffPost_collection_name,\n",
    "    COLLECTION_ID as HuffPost_collection_id,\n",
    ")\n",
    "from Peony_box.src.utils import k_fold_corss_validation, auc_metrics\n",
    "from Peony_box.src.acquisition_functions.functions import entropy_sampling\n",
    "from Peony_visualization.src.peony_visualization import visualize_two_auc_evolutions"
   ]
  },
  {
   "cell_type": "markdown",
   "metadata": {},
   "source": [
    "### Import Other Packages"
   ]
  },
  {
   "cell_type": "code",
   "execution_count": 2,
   "metadata": {},
   "outputs": [],
   "source": [
    "import numpy as np\n",
    "import multiprocessing as mp\n",
    "\n",
    "from IPython.utils import io\n",
    "from tqdm import tqdm_notebook as tqdm\n",
    "from sklearn.utils import shuffle"
   ]
  },
  {
   "cell_type": "markdown",
   "metadata": {},
   "source": [
    "## Create Peony Databse API"
   ]
  },
  {
   "cell_type": "code",
   "execution_count": 3,
   "metadata": {},
   "outputs": [],
   "source": [
    "api = MongoDb()"
   ]
  },
  {
   "cell_type": "markdown",
   "metadata": {},
   "source": [
    "## Get articles and labebls from Peony Databse"
   ]
  },
  {
   "cell_type": "code",
   "execution_count": 4,
   "metadata": {},
   "outputs": [],
   "source": [
    "sport_records = api.get_record(\n",
    "    collection_name=HuffPost_collection_name,\n",
    "    collection_id=HuffPost_collection_id,\n",
    "    label=\"SPORTS\",\n",
    "    limit=500,\n",
    ")\n",
    "\n",
    "comedy_records = api.get_record(\n",
    "    collection_name=HuffPost_collection_name,\n",
    "    collection_id=HuffPost_collection_id,\n",
    "    label=\"COMEDY\",\n",
    "    limit=500,\n",
    ")\n",
    "\n",
    "instances = sport_records + comedy_records\n",
    "labels = [sample[\"record\"][\"label\"] for sample in sport_records + comedy_records]\n",
    "\n",
    "instances_from_db, labels_from_db = shuffle(instances, labels, random_state=0)"
   ]
  },
  {
   "cell_type": "markdown",
   "metadata": {},
   "source": [
    "## Create and Fit Transformator"
   ]
  },
  {
   "cell_type": "markdown",
   "metadata": {},
   "source": [
    "### TF-IDF Bag-of-words based transformator"
   ]
  },
  {
   "cell_type": "code",
   "execution_count": 5,
   "metadata": {},
   "outputs": [
    {
     "name": "stderr",
     "output_type": "stream",
     "text": [
      "100%|██████████| 1000/1000 [00:00<00:00, 118456.39it/s]"
     ]
    },
    {
     "name": "stdout",
     "output_type": "stream",
     "text": [
      "transforming data...\n"
     ]
    },
    {
     "name": "stderr",
     "output_type": "stream",
     "text": [
      "\n"
     ]
    }
   ],
   "source": [
    "HuffPostTransform = transformator()\n",
    "HuffPostTransform.fit(instances_from_db)"
   ]
  },
  {
   "cell_type": "markdown",
   "metadata": {},
   "source": [
    "### Fast Text Word Embeddings"
   ]
  },
  {
   "cell_type": "code",
   "execution_count": 6,
   "metadata": {},
   "outputs": [
    {
     "name": "stderr",
     "output_type": "stream",
     "text": [
      "100%|██████████| 1000/1000 [00:00<00:00, 204211.69it/s]"
     ]
    },
    {
     "name": "stdout",
     "output_type": "stream",
     "text": [
      "transforming data...\n"
     ]
    },
    {
     "name": "stderr",
     "output_type": "stream",
     "text": [
      "\n",
      "  0%|          | 33/20405 [00:00<01:01, 329.77it/s]"
     ]
    },
    {
     "name": "stdout",
     "output_type": "stream",
     "text": [
      "creating (words -> embeddings) hash map...\n"
     ]
    },
    {
     "name": "stderr",
     "output_type": "stream",
     "text": [
      "100%|██████████| 20405/20405 [00:36<00:00, 564.26it/s]\n"
     ]
    }
   ],
   "source": [
    "HuffPostWordEmbeddingsTransform = word_embed_transformator()\n",
    "HuffPostWordEmbeddingsTransform.fit(instances_from_db)"
   ]
  },
  {
   "cell_type": "markdown",
   "metadata": {},
   "source": [
    "## TF-IDF Bag-of-words Based Active Learning Performance"
   ]
  },
  {
   "cell_type": "markdown",
   "metadata": {},
   "source": [
    "### Tranform All Instances (TF-IDF Bag-of-words) For Faster Computations"
   ]
  },
  {
   "cell_type": "code",
   "execution_count": 13,
   "metadata": {},
   "outputs": [
    {
     "name": "stderr",
     "output_type": "stream",
     "text": [
      "\n",
      "100%|██████████| 1000/1000 [00:00<00:00, 45566.49it/s]\n",
      "\n",
      "100%|██████████| 1000/1000 [00:00<00:00, 98437.04it/s]\n"
     ]
    }
   ],
   "source": [
    "instances = HuffPostTransform.transform_instances(instances_from_db).toarray()\n",
    "labels = HuffPostTransform.transform_labels(labels_from_db)"
   ]
  },
  {
   "cell_type": "markdown",
   "metadata": {},
   "source": [
    "### Methods for Active Learning Pipeline Simulation (valid for any encoding)"
   ]
  },
  {
   "cell_type": "code",
   "execution_count": 7,
   "metadata": {},
   "outputs": [],
   "source": [
    "def reset_validation_data(testing_instances, \n",
    "                          testing_labels, \n",
    "                          new_training_indices):\n",
    "    new_training_indices = new_training_indices.tolist()\n",
    "    training_instances = [testing_instances[index] for index in new_training_indices]\n",
    "    training_labels = [testing_labels[index] for index in new_training_indices]\n",
    "    testing_instances = np.delete(testing_instances, new_training_indices, axis=0)\n",
    "    testing_labels = np.delete(testing_labels, new_training_indices, axis=None)\n",
    "\n",
    "    return training_instances, training_labels, testing_instances, testing_labels\n",
    "    \n",
    "def active_learning_simulation(transformator, acquisition_function, active_learning_loops, max_active_learning_iters, active_learning_step, model):\n",
    "    \n",
    "    #pool = mp.Pool(mp.cpu_count())\n",
    "    \n",
    "    # Repeat experiment for statistical validation\n",
    "    # Return auc results for all runs and different active learning iteration\n",
    "    \n",
    "    #result = [pool.apply(active_learning_simulation_round, args = (transformator, acquisition_function, max_active_learning_iters, active_learning_step, model)) for _ in range(active_learning_loops)]\n",
    "    \n",
    "    #pool.close()\n",
    "    \n",
    "    result = [active_learning_simulation_round(transformator, acquisition_function, max_active_learning_iters, active_learning_step, model) for _ in tqdm(range(active_learning_loops))]\n",
    "    \n",
    "    return result\n",
    "    \n",
    "    \n",
    "    \n",
    "def active_learning_simulation_round(transformator, acquisition_function, max_active_learning_iters, active_learning_step, model):\n",
    "    auc_active_learning_runs = []\n",
    "    #Data preparation\n",
    "    auc_active_learning = []\n",
    "\n",
    "    training_instances = instances[:initial_training_data_size]\n",
    "    training_labels = labels[:initial_training_data_size]\n",
    "\n",
    "    testing_instances = instances[initial_training_data_size:]\n",
    "    testing_labels = labels[initial_training_data_size:]\n",
    "\n",
    "    #Active Learning Pipeline Run\n",
    "    peony_model = PeonyBoxModel(transformator, active_learning_step=active_learning_step, acquisition_function = acquisition_function)\n",
    "    with io.capture_output() as captured: #suppressing output\n",
    "        #Fit model with very little set of training data\n",
    "        if model == \"svm\":\n",
    "            peony_model.svm_model.fit(training_instances, training_labels, False);\n",
    "        elif model == \"nn\":\n",
    "            peony_model.feed_forward_nn.fit(training_instances, training_labels, False);\n",
    "        else:\n",
    "            peony_model.random_forest_model.fit(training_instances, training_labels, False);\n",
    "\n",
    "    #Start active learning loop\n",
    "    for index in (range(max_active_learning_iters)):\n",
    "        with io.capture_output() as captured: #suppressing output\n",
    "\n",
    "            #predict the dataset complement for choosing next training data\n",
    "            if model == \"svm\":\n",
    "                predicted = peony_model.svm_model.predict(testing_instances, False);\n",
    "            elif model == \"nn\":\n",
    "                predicted = peony_model.feed_forward_nn.predict(testing_instances, False);\n",
    "            else:\n",
    "                predicted = peony_model.random_forest_model.predict(testing_instances, False);\n",
    "\n",
    "            labels_for_auc = testing_labels;\n",
    "            auc_active_learning.append(auc_metrics([{\"true\": labels_for_auc, \"predicted\": predicted}]))\n",
    "\n",
    "            #Get indices based on acquisition function\n",
    "            if model == \"svm\":\n",
    "                indices = peony_model.svm_model.get_learning_samples(testing_instances, False)\n",
    "            elif model == \"nn\":\n",
    "                indices = peony_model.feed_forward_nn.get_learning_samples(testing_instances, False)\n",
    "            else:\n",
    "                indices = peony_model.random_forest_model.get_learning_samples(testing_instances, False)\n",
    "\n",
    "            #Reset validation dataset (add training data, remove testing data)\n",
    "            training_instances, training_labels, testing_instances, testing_labels = reset_validation_data(testing_instances, testing_labels, indices)\n",
    "\n",
    "            #Add new learning samples to the model and retrain\n",
    "            if model == \"svm\":\n",
    "                peony_model.svm_model.add_new_learning_samples(training_instances, training_labels, False);\n",
    "            elif model == \"nn\":\n",
    "                peony_model.feed_forward_nn.add_new_learning_samples(training_instances, training_labels, False);\n",
    "            else:\n",
    "                peony_model.random_forest_model.add_new_learning_samples(training_instances, training_labels, False);\n",
    "            \n",
    "    return auc_active_learning"
   ]
  },
  {
   "cell_type": "markdown",
   "metadata": {},
   "source": [
    "### Random Forest Active Learning (Entropy vs Random Sampling)\n"
   ]
  },
  {
   "cell_type": "markdown",
   "metadata": {},
   "source": [
    "### Active Learning Pipeline"
   ]
  },
  {
   "cell_type": "markdown",
   "metadata": {},
   "source": [
    "#### Random Training Data Sampling"
   ]
  },
  {
   "cell_type": "code",
   "execution_count": null,
   "metadata": {},
   "outputs": [],
   "source": [
    "#Define model specifications\n",
    "model = \"random_forest\"\n",
    "acquisition_function = \"random\"\n",
    "active_learning_loops = 10\n",
    "active_learning_step = 1\n",
    "max_active_learning_iters = 200\n",
    "initial_training_data_size = 10\n",
    "validation_data_size = 1000\n",
    "category_1 = \"SPORTS\"\n",
    "category_2 = \"COMEDY\"\n",
    "\n",
    "#Get AUC results from an active learning simulation  \n",
    "auc_active_learning_random_10_runs = active_learning_simulation(HuffPostTransform, None, active_learning_loops, max_active_learning_iters, active_learning_step, \"random_forest\")\n",
    "\n",
    "#Pack specifications and resutls to the list for uploading to Peony Database \n",
    "list_to_upload = [model, acquisition_function, active_learning_loops, active_learning_step, max_active_learning_iters, initial_training_data_size, validation_data_size, category_1, category_2, auc_active_learning_random_10_runs]\n",
    "\n",
    "#Upload results to Peony Database\n",
    "api.load_model_results(*list_to_upload)"
   ]
  },
  {
   "cell_type": "markdown",
   "metadata": {},
   "source": [
    "#### Entropy Training Data Sampling"
   ]
  },
  {
   "cell_type": "code",
   "execution_count": null,
   "metadata": {},
   "outputs": [],
   "source": [
    "#Define model specifications\n",
    "model = \"random_forest\"\n",
    "acquisition_function = \"entropy\"\n",
    "active_learning_loops = 10\n",
    "active_learning_step = 1\n",
    "max_active_learning_iters = 200\n",
    "initial_training_data_size = 10\n",
    "validation_data_size = 1000\n",
    "category_1 = \"SPORTS\"\n",
    "category_2 = \"COMEDY\"\n",
    "\n",
    "#Get AUC results from an active learning simulation  \n",
    "auc_active_learning_entropy_10_runs = active_learning_simulation(HuffPostTransform, entropy_sampling, active_learning_loops, max_active_learning_iters, active_learning_step, \"random_forest\")\n",
    "\n",
    "#Pack specifications and resutls to the list for uploading to Peony Database \n",
    "list_to_upload = [model, acquisition_function, active_learning_loops, active_learning_step, max_active_learning_iters, initial_training_data_size, validation_data_size, category_1, category_2, auc_active_learning_entropy_10_runs]\n",
    "\n",
    "#Upload results to Peony Database\n",
    "api.load_model_results(*list_to_upload)"
   ]
  },
  {
   "cell_type": "markdown",
   "metadata": {},
   "source": [
    "### SVM Active Learning (Entropy vs Random Sampling)"
   ]
  },
  {
   "cell_type": "markdown",
   "metadata": {},
   "source": [
    "### Active Learning Pipeline"
   ]
  },
  {
   "cell_type": "markdown",
   "metadata": {},
   "source": [
    "#### Random Training Data Sampling"
   ]
  },
  {
   "cell_type": "code",
   "execution_count": null,
   "metadata": {},
   "outputs": [],
   "source": [
    "#Define model specifications\n",
    "model = \"svm\"\n",
    "acquisition_function = \"random\"\n",
    "active_learning_loops = 10\n",
    "active_learning_step = 1\n",
    "max_active_learning_iters = 200\n",
    "initial_training_data_size = 10\n",
    "validation_data_size = 1000\n",
    "category_1 = \"SPORTS\"\n",
    "category_2 = \"COMEDY\"\n",
    "\n",
    "#Get AUC results from an active learning simulation  \n",
    "auc_active_learning_random_10_runs_svm = active_learning_simulation(HuffPostTransform, None, active_learning_loops, max_active_learning_iters, active_learning_step, \"svm\")\n",
    "\n",
    "#Pack specifications and resutls to the list for uploading to Peony Database \n",
    "list_to_upload = [model, acquisition_function, active_learning_loops, active_learning_step, max_active_learning_iters, initial_training_data_size, validation_data_size, category_1, category_2, auc_active_learning_random_10_runs_svm]\n",
    "\n",
    "#Upload results to Peony Database\n",
    "api.load_model_results(*list_to_upload)"
   ]
  },
  {
   "cell_type": "markdown",
   "metadata": {},
   "source": [
    "#### Entropy Training Data Sampling"
   ]
  },
  {
   "cell_type": "code",
   "execution_count": null,
   "metadata": {},
   "outputs": [],
   "source": [
    "#Define model specifications\n",
    "model = \"svm\"\n",
    "acquisition_function = \"entropy\"\n",
    "active_learning_loops = 10\n",
    "active_learning_step = 1\n",
    "max_active_learning_iters = 200\n",
    "initial_training_data_size = 10\n",
    "validation_data_size = 1000\n",
    "category_1 = \"SPORTS\"\n",
    "category_2 = \"COMEDY\"\n",
    "\n",
    "#Get AUC results from an active learning simulation  \n",
    "auc_active_learning_entropy_10_runs_svm = active_learning_simulation(HuffPostTransform, entropy_sampling, active_learning_loops, max_active_learning_iters, active_learning_step, \"svm\")\n",
    "\n",
    "#Pack specifications and resutls to the list for uploading to Peony Database \n",
    "list_to_upload = [model, acquisition_function, active_learning_loops, active_learning_step, max_active_learning_iters, initial_training_data_size, validation_data_size, category_1, category_2, auc_active_learning_entropy_10_runs_svm]\n",
    "\n",
    "#Upload results to Peony Database\n",
    "api.load_model_results(*list_to_upload)"
   ]
  },
  {
   "cell_type": "markdown",
   "metadata": {},
   "source": [
    "## Extracting results from Peony Database"
   ]
  },
  {
   "cell_type": "markdown",
   "metadata": {},
   "source": [
    "### SVM Results and Visualization"
   ]
  },
  {
   "cell_type": "markdown",
   "metadata": {},
   "source": [
    "#### Results"
   ]
  },
  {
   "cell_type": "code",
   "execution_count": 8,
   "metadata": {},
   "outputs": [],
   "source": [
    "#Random acquisition function \n",
    "svm_random_sampling_results = api.get_model_results({\"model\": \"svm\", \"acquisition_function\": \"random\"})[0]\n",
    "\n",
    "#Entropy acquisition function\n",
    "svm_entropy_sampling_results = api.get_model_results({\"model\": \"svm\", \"acquisition_function\": \"entropy\"})[0]\n",
    "\n",
    "#we use zero index because database returns list even if it is only one element in list"
   ]
  },
  {
   "cell_type": "markdown",
   "metadata": {},
   "source": [
    "#### Visualization"
   ]
  },
  {
   "cell_type": "code",
   "execution_count": 9,
   "metadata": {},
   "outputs": [
    {
     "data": {
      "image/png": "[encoded data removed]",
      "text/plain": [
       "<Figure size 432x288 with 1 Axes>"
      ]
     },
     "metadata": {
      "needs_background": "light"
     },
     "output_type": "display_data"
    }
   ],
   "source": [
    "visualize_two_auc_evolutions(svm_random_sampling_results[\"results\"], svm_entropy_sampling_results[\"results\"])"
   ]
  },
  {
   "cell_type": "markdown",
   "metadata": {},
   "source": [
    "### Random Forest Results and Visualization"
   ]
  },
  {
   "cell_type": "markdown",
   "metadata": {},
   "source": [
    "#### Results"
   ]
  },
  {
   "cell_type": "code",
   "execution_count": 10,
   "metadata": {},
   "outputs": [],
   "source": [
    "#Random acquisition function \n",
    "random_forest_random_sampling_results = api.get_model_results({\"model\": \"random_forest\", \"acquisition_function\": \"random\"})[0]\n",
    "\n",
    "#Entropy acquisition function\n",
    "random_forest_entropy_sampling_results = api.get_model_results({\"model\": \"random_forest\", \"acquisition_function\": \"entropy\"})[0]\n",
    "\n",
    "#we use zero index because database returns list even if it is only one element in list"
   ]
  },
  {
   "cell_type": "markdown",
   "metadata": {},
   "source": [
    "#### Visualization"
   ]
  },
  {
   "cell_type": "code",
   "execution_count": 11,
   "metadata": {},
   "outputs": [
    {
     "data": {
      "image/png": "[encoded data removed]",
      "text/plain": [
       "<Figure size 432x288 with 1 Axes>"
      ]
     },
     "metadata": {
      "needs_background": "light"
     },
     "output_type": "display_data"
    }
   ],
   "source": [
    "visualize_two_auc_evolutions(random_forest_random_sampling_results[\"results\"], random_forest_entropy_sampling_results[\"results\"])"
   ]
  },
  {
   "cell_type": "markdown",
   "metadata": {},
   "source": [
    "## Fast Text Words Embeddings Based Active Learning Performance"
   ]
  },
  {
   "cell_type": "markdown",
   "metadata": {},
   "source": [
    "### Tranform All Instances (Fast Text Words Embeddings) For Faster Computations"
   ]
  },
  {
   "cell_type": "code",
   "execution_count": 8,
   "metadata": {},
   "outputs": [
    {
     "name": "stderr",
     "output_type": "stream",
     "text": [
      "100%|██████████| 1000/1000 [00:00<00:00, 236512.01it/s]\n",
      "100%|██████████| 1000/1000 [00:00<00:00, 1027763.78it/s]\n"
     ]
    }
   ],
   "source": [
    "instances = np.asarray(HuffPostWordEmbeddingsTransform.transform_instances(instances_from_db))\n",
    "labels = HuffPostWordEmbeddingsTransform.transform_labels(labels_from_db)"
   ]
  },
  {
   "cell_type": "markdown",
   "metadata": {},
   "source": [
    "### Random Forest Active Learning (Entropy vs Random Sampling)"
   ]
  },
  {
   "cell_type": "markdown",
   "metadata": {},
   "source": [
    "### Active Learning Pipeline"
   ]
  },
  {
   "cell_type": "markdown",
   "metadata": {},
   "source": [
    "#### Random Training Data Sampling"
   ]
  },
  {
   "cell_type": "code",
   "execution_count": 21,
   "metadata": {},
   "outputs": [
    {
     "data": {
      "application/vnd.jupyter.widget-view+json": {
       "model_id": "7af0b803c9e54b44a3603230c218edd5",
       "version_major": 2,
       "version_minor": 0
      },
      "text/plain": [
       "HBox(children=(IntProgress(value=0, max=10), HTML(value='')))"
      ]
     },
     "metadata": {},
     "output_type": "display_data"
    },
    {
     "name": "stdout",
     "output_type": "stream",
     "text": [
      "\n"
     ]
    }
   ],
   "source": [
    "#Define model specifications\n",
    "model = \"random_forest_fast_text_embeddings\"\n",
    "acquisition_function = \"random\"\n",
    "active_learning_loops = 10\n",
    "active_learning_step = 1\n",
    "max_active_learning_iters = 200\n",
    "initial_training_data_size = 10\n",
    "validation_data_size = 1000\n",
    "category_1 = \"SPORTS\"\n",
    "category_2 = \"COMEDY\"\n",
    "\n",
    "#Get AUC results from an active learning simulation  \n",
    "auc_active_learning_random_10_runs = active_learning_simulation(HuffPostWordEmbeddingsTransform, None, active_learning_loops, max_active_learning_iters, active_learning_step, \"random_forest\")\n",
    "\n",
    "#Pack specifications and resutls to the list for uploading to Peony Database \n",
    "list_to_upload = [model, acquisition_function, active_learning_loops, active_learning_step, max_active_learning_iters, initial_training_data_size, validation_data_size, category_1, category_2, auc_active_learning_random_10_runs]\n",
    "\n",
    "#Upload results to Peony Database\n",
    "api.load_model_results(*list_to_upload)"
   ]
  },
  {
   "cell_type": "markdown",
   "metadata": {},
   "source": [
    "#### Entropy Training Data Sampling"
   ]
  },
  {
   "cell_type": "code",
   "execution_count": 22,
   "metadata": {},
   "outputs": [
    {
     "data": {
      "application/vnd.jupyter.widget-view+json": {
       "model_id": "c8ae6cc689a8419fa7aa7f9d02e49c37",
       "version_major": 2,
       "version_minor": 0
      },
      "text/plain": [
       "HBox(children=(IntProgress(value=0, max=10), HTML(value='')))"
      ]
     },
     "metadata": {},
     "output_type": "display_data"
    },
    {
     "name": "stdout",
     "output_type": "stream",
     "text": [
      "\n"
     ]
    }
   ],
   "source": [
    "#Define model specifications\n",
    "model = \"random_forest_fast_text_embeddings\"\n",
    "acquisition_function = \"entropy\"\n",
    "active_learning_loops = 10\n",
    "active_learning_step = 1\n",
    "max_active_learning_iters = 200\n",
    "initial_training_data_size = 10\n",
    "validation_data_size = 1000\n",
    "category_1 = \"SPORTS\"\n",
    "category_2 = \"COMEDY\"\n",
    "\n",
    "#Get AUC results from an active learning simulation  \n",
    "auc_active_learning_entropy_10_runs = active_learning_simulation(HuffPostWordEmbeddingsTransform, entropy_sampling, active_learning_loops, max_active_learning_iters, active_learning_step, \"random_forest\")\n",
    "\n",
    "#Pack specifications and resutls to the list for uploading to Peony Database \n",
    "list_to_upload = [model, acquisition_function, active_learning_loops, active_learning_step, max_active_learning_iters, initial_training_data_size, validation_data_size, category_1, category_2, auc_active_learning_entropy_10_runs]\n",
    "\n",
    "#Upload results to Peony Database\n",
    "api.load_model_results(*list_to_upload)"
   ]
  },
  {
   "cell_type": "markdown",
   "metadata": {},
   "source": [
    "### SVM Active Learning (Entropy vs Random Sampling)"
   ]
  },
  {
   "cell_type": "markdown",
   "metadata": {},
   "source": [
    "### Active Learning Pipeline"
   ]
  },
  {
   "cell_type": "markdown",
   "metadata": {},
   "source": [
    "#### Random Training Data Sampling"
   ]
  },
  {
   "cell_type": "code",
   "execution_count": 26,
   "metadata": {},
   "outputs": [
    {
     "data": {
      "application/vnd.jupyter.widget-view+json": {
       "model_id": "92c27c6a454747798b0d7c723f1ea2d5",
       "version_major": 2,
       "version_minor": 0
      },
      "text/plain": [
       "HBox(children=(IntProgress(value=0, max=10), HTML(value='')))"
      ]
     },
     "metadata": {},
     "output_type": "display_data"
    },
    {
     "name": "stdout",
     "output_type": "stream",
     "text": [
      "\n"
     ]
    }
   ],
   "source": [
    "#Define model specifications\n",
    "model = \"svm_fast_text_embeddings\"\n",
    "acquisition_function = \"random\"\n",
    "active_learning_loops = 10\n",
    "active_learning_step = 1\n",
    "max_active_learning_iters = 200\n",
    "initial_training_data_size = 10\n",
    "validation_data_size = 1000\n",
    "category_1 = \"SPORTS\"\n",
    "category_2 = \"COMEDY\"\n",
    "\n",
    "#Get AUC results from an active learning simulation  \n",
    "auc_active_learning_random_10_runs_svm = active_learning_simulation(HuffPostWordEmbeddingsTransform, None, active_learning_loops, max_active_learning_iters, active_learning_step, \"svm\")\n",
    "\n",
    "#Pack specifications and resutls to the list for uploading to Peony Database \n",
    "list_to_upload = [model, acquisition_function, active_learning_loops, active_learning_step, max_active_learning_iters, initial_training_data_size, validation_data_size, category_1, category_2, auc_active_learning_random_10_runs_svm]\n",
    "\n",
    "#Upload results to Peony Database\n",
    "api.load_model_results(*list_to_upload)"
   ]
  },
  {
   "cell_type": "markdown",
   "metadata": {},
   "source": [
    "#### Entropy Training Data Sampling"
   ]
  },
  {
   "cell_type": "code",
   "execution_count": 27,
   "metadata": {},
   "outputs": [
    {
     "data": {
      "application/vnd.jupyter.widget-view+json": {
       "model_id": "e4af067a9187477cb997affa80753a3b",
       "version_major": 2,
       "version_minor": 0
      },
      "text/plain": [
       "HBox(children=(IntProgress(value=0, max=10), HTML(value='')))"
      ]
     },
     "metadata": {},
     "output_type": "display_data"
    },
    {
     "name": "stdout",
     "output_type": "stream",
     "text": [
      "\n"
     ]
    }
   ],
   "source": [
    "#Define model specifications\n",
    "model = \"svm_fast_text_embeddings\"\n",
    "acquisition_function = \"entropy\"\n",
    "active_learning_loops = 10\n",
    "active_learning_step = 1\n",
    "max_active_learning_iters = 200\n",
    "initial_training_data_size = 10\n",
    "validation_data_size = 1000\n",
    "category_1 = \"SPORTS\"\n",
    "category_2 = \"COMEDY\"\n",
    "\n",
    "#Get AUC results from an active learning simulation  \n",
    "auc_active_learning_entropy_10_runs_svm = active_learning_simulation(HuffPostWordEmbeddingsTransform, entropy_sampling, active_learning_loops, max_active_learning_iters, active_learning_step, \"svm\")\n",
    "\n",
    "#Pack specifications and resutls to the list for uploading to Peony Database \n",
    "list_to_upload = [model, acquisition_function, active_learning_loops, active_learning_step, max_active_learning_iters, initial_training_data_size, validation_data_size, category_1, category_2, auc_active_learning_entropy_10_runs_svm]\n",
    "\n",
    "#Upload results to Peony Database\n",
    "api.load_model_results(*list_to_upload)"
   ]
  },
  {
   "cell_type": "markdown",
   "metadata": {},
   "source": [
    "### Feed Forward NN Active Learning (Entropy vs Random Sampling)"
   ]
  },
  {
   "cell_type": "markdown",
   "metadata": {},
   "source": [
    "### Active Learning Pipeline"
   ]
  },
  {
   "cell_type": "markdown",
   "metadata": {},
   "source": [
    "#### Random Training Data Sampling"
   ]
  },
  {
   "cell_type": "code",
   "execution_count": 9,
   "metadata": {},
   "outputs": [
    {
     "data": {
      "application/vnd.jupyter.widget-view+json": {
       "model_id": "27f8152f98c74d56a4cde79b85f218a8",
       "version_major": 2,
       "version_minor": 0
      },
      "text/plain": [
       "HBox(children=(IntProgress(value=0, max=10), HTML(value='')))"
      ]
     },
     "metadata": {},
     "output_type": "display_data"
    },
    {
     "name": "stdout",
     "output_type": "stream",
     "text": [
      "\n"
     ]
    }
   ],
   "source": [
    "#Define model specifications\n",
    "model = \"feed_forward_nn_fast_text_embeddings\"\n",
    "acquisition_function = \"random\"\n",
    "active_learning_loops = 10\n",
    "active_learning_step = 1\n",
    "max_active_learning_iters = 200\n",
    "initial_training_data_size = 10\n",
    "validation_data_size = 1000\n",
    "category_1 = \"SPORTS\"\n",
    "category_2 = \"COMEDY\"\n",
    "\n",
    "#Get AUC results from an active learning simulation  \n",
    "auc_active_learning_random_10_runs_nn = active_learning_simulation(HuffPostWordEmbeddingsTransform, None, active_learning_loops, max_active_learning_iters, active_learning_step, \"nn\")\n",
    "\n",
    "#Pack specifications and resutls to the list for uploading to Peony Database \n",
    "list_to_upload = [model, acquisition_function, active_learning_loops, active_learning_step, max_active_learning_iters, initial_training_data_size, validation_data_size, category_1, category_2, auc_active_learning_random_10_runs_nn]\n",
    "\n",
    "#Upload results to Peony Database\n",
    "api.load_model_results(*list_to_upload)"
   ]
  },
  {
   "cell_type": "markdown",
   "metadata": {},
   "source": [
    "#### Entropy Training Data Sampling"
   ]
  },
  {
   "cell_type": "code",
   "execution_count": 10,
   "metadata": {},
   "outputs": [
    {
     "data": {
      "application/vnd.jupyter.widget-view+json": {
       "model_id": "4ae1bcd780194af9a6dceaf28eb4ca0b",
       "version_major": 2,
       "version_minor": 0
      },
      "text/plain": [
       "HBox(children=(IntProgress(value=0, max=10), HTML(value='')))"
      ]
     },
     "metadata": {},
     "output_type": "display_data"
    },
    {
     "name": "stdout",
     "output_type": "stream",
     "text": [
      "\n"
     ]
    }
   ],
   "source": [
    "#Define model specifications\n",
    "model = \"feed_forward_nn_fast_text_embeddings\"\n",
    "acquisition_function = \"entropy\"\n",
    "active_learning_loops = 10\n",
    "active_learning_step = 1\n",
    "max_active_learning_iters = 200\n",
    "initial_training_data_size = 10\n",
    "validation_data_size = 1000\n",
    "category_1 = \"SPORTS\"\n",
    "category_2 = \"COMEDY\"\n",
    "\n",
    "#Get AUC results from an active learning simulation  \n",
    "auc_active_learning_entropy_10_runs_nn = active_learning_simulation(HuffPostWordEmbeddingsTransform, entropy_sampling, active_learning_loops, max_active_learning_iters, active_learning_step, \"nn\")\n",
    "\n",
    "#Pack specifications and resutls to the list for uploading to Peony Database \n",
    "list_to_upload = [model, acquisition_function, active_learning_loops, active_learning_step, max_active_learning_iters, initial_training_data_size, validation_data_size, category_1, category_2, auc_active_learning_entropy_10_runs_nn]\n",
    "\n",
    "#Upload results to Peony Database\n",
    "api.load_model_results(*list_to_upload)"
   ]
  },
  {
   "cell_type": "markdown",
   "metadata": {},
   "source": [
    "## Extracting results from Peony Database"
   ]
  },
  {
   "cell_type": "markdown",
   "metadata": {},
   "source": [
    "### SVM Results and Visualization"
   ]
  },
  {
   "cell_type": "markdown",
   "metadata": {},
   "source": [
    "#### Results"
   ]
  },
  {
   "cell_type": "code",
   "execution_count": null,
   "metadata": {},
   "outputs": [],
   "source": [
    "#Random acquisition function \n",
    "svm_random_sampling_results = api.get_model_results({\"model\": \"svm_fast_text_embeddings\", \"acquisition_function\": \"random\"})[0]\n",
    "\n",
    "#Entropy acquisition function\n",
    "svm_entropy_sampling_results = api.get_model_results({\"model\": \"svm_fast_text_embeddings\", \"acquisition_function\": \"entropy\"})[0]\n",
    "\n",
    "#we use zero index because database returns list even if it is only one element in list"
   ]
  },
  {
   "cell_type": "markdown",
   "metadata": {},
   "source": [
    "#### Visualization"
   ]
  },
  {
   "cell_type": "code",
   "execution_count": null,
   "metadata": {},
   "outputs": [],
   "source": [
    "visualize_two_auc_evolutions(svm_random_sampling_results[\"results\"], svm_entropy_sampling_results[\"results\"])"
   ]
  },
  {
   "cell_type": "markdown",
   "metadata": {},
   "source": [
    "### Random Forest Results and Visualization"
   ]
  },
  {
   "cell_type": "code",
   "execution_count": 24,
   "metadata": {},
   "outputs": [],
   "source": [
    "#Random acquisition function \n",
    "random_forest_random_sampling_results = api.get_model_results({\"model\": \"random_forest_fast_text_embeddings\", \"acquisition_function\": \"random\"})[0]\n",
    "\n",
    "#Entropy acquisition function\n",
    "random_forest_entropy_sampling_results = api.get_model_results({\"model\": \"random_forest_fast_text_embeddings\", \"acquisition_function\": \"entropy\"})[0]\n",
    "\n",
    "#we use zero index because database returns list even if it is only one element in list"
   ]
  },
  {
   "cell_type": "markdown",
   "metadata": {},
   "source": [
    "#### Visualization"
   ]
  },
  {
   "cell_type": "code",
   "execution_count": 25,
   "metadata": {},
   "outputs": [
    {
     "data": {
      "image/png": "[encoded data removed]",
      "text/plain": [
       "<Figure size 432x288 with 1 Axes>"
      ]
     },
     "metadata": {
      "needs_background": "light"
     },
     "output_type": "display_data"
    }
   ],
   "source": [
    "visualize_two_auc_evolutions(random_forest_random_sampling_results[\"results\"], random_forest_entropy_sampling_results[\"results\"])"
   ]
  },
  {
   "cell_type": "markdown",
   "metadata": {},
   "source": [
    "### Feed Forward NN Results and Visualization"
   ]
  },
  {
   "cell_type": "code",
   "execution_count": 13,
   "metadata": {},
   "outputs": [],
   "source": [
    "#Random acquisition function \n",
    "feed_forward_nn_random_sampling_results = api.get_model_results({\"model\": \"feed_forward_nn_fast_text_embeddings\", \"acquisition_function\": \"random\"})[0]\n",
    "\n",
    "#Entropy acquisition function\n",
    "feed_forward_nn_entropy_sampling_results = api.get_model_results({\"model\": \"feed_forward_nn_fast_text_embeddings\", \"acquisition_function\": \"entropy\"})[0]\n",
    "\n",
    "#we use zero index because database returns list even if it is only one element in list"
   ]
  },
  {
   "cell_type": "markdown",
   "metadata": {},
   "source": [
    "#### Visualization"
   ]
  },
  {
   "cell_type": "code",
   "execution_count": 11,
   "metadata": {},
   "outputs": [
    {
     "ename": "NameError",
     "evalue": "name 'feed_forward_nn_random_sampling_results' is not defined",
     "output_type": "error",
     "traceback": [
      "\u001b[0;31m---------------------------------------------------------------------------\u001b[0m",
      "\u001b[0;31mNameError\u001b[0m                                 Traceback (most recent call last)",
      "\u001b[0;32m<ipython-input-11-bbcf8fe01534>\u001b[0m in \u001b[0;36m<module>\u001b[0;34m\u001b[0m\n\u001b[0;32m----> 1\u001b[0;31m \u001b[0mvisualize_two_auc_evolutions\u001b[0m\u001b[0;34m(\u001b[0m\u001b[0mfeed_forward_nn_random_sampling_results\u001b[0m\u001b[0;34m[\u001b[0m\u001b[0;34m\"results\"\u001b[0m\u001b[0;34m]\u001b[0m\u001b[0;34m,\u001b[0m \u001b[0mfeed_forward_nn_entropy_sampling_results\u001b[0m\u001b[0;34m[\u001b[0m\u001b[0;34m\"results\"\u001b[0m\u001b[0;34m]\u001b[0m\u001b[0;34m)\u001b[0m\u001b[0;34m\u001b[0m\u001b[0m\n\u001b[0m",
      "\u001b[0;31mNameError\u001b[0m: name 'feed_forward_nn_random_sampling_results' is not defined"
     ]
    }
   ],
   "source": [
    "visualize_two_auc_evolutions(feed_forward_nn_random_sampling_results[\"results\"], feed_forward_nn_entropy_sampling_results[\"results\"])"
   ]
  },
  {
   "cell_type": "code",
   "execution_count": null,
   "metadata": {},
   "outputs": [],
   "source": []
  }
 ],
 "metadata": {
  "kernelspec": {
   "display_name": "Python 3",
   "language": "python",
   "name": "python3"
  },
  "language_info": {
   "codemirror_mode": {
    "name": "ipython",
    "version": 3
   },
   "file_extension": ".py",
   "mimetype": "text/x-python",
   "name": "python",
   "nbconvert_exporter": "python",
   "pygments_lexer": "ipython3",
   "version": "3.7.0"
  }
 },
 "nbformat": 4,
 "nbformat_minor": 2
}
